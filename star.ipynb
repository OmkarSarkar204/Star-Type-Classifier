{
 "cells": [
  {
   "cell_type": "code",
   "execution_count": 57,
   "id": "7874f814",
   "metadata": {},
   "outputs": [],
   "source": [
    "import pandas as pd\n",
    "import numpy as np\n",
    "from sklearn.model_selection import train_test_split\n",
    "from sklearn.preprocessing import LabelEncoder\n",
    "from sklearn.neighbors import KNeighborsClassifier\n",
    "from sklearn.metrics import accuracy_score, classification_report, confusion_matrix\n",
    "from sklearn.preprocessing import StandardScaler\n"
   ]
  },
  {
   "cell_type": "code",
   "execution_count": 58,
   "id": "29f8ef01",
   "metadata": {},
   "outputs": [
    {
     "name": "stdout",
     "output_type": "stream",
     "text": [
      "<class 'pandas.core.frame.DataFrame'>\n",
      "RangeIndex: 240 entries, 0 to 239\n",
      "Data columns (total 7 columns):\n",
      " #   Column          Non-Null Count  Dtype  \n",
      "---  ------          --------------  -----  \n",
      " 0   Temperature     240 non-null    int64  \n",
      " 1   L               240 non-null    float64\n",
      " 2   R               240 non-null    float64\n",
      " 3   A_M             240 non-null    float64\n",
      " 4   Color           240 non-null    object \n",
      " 5   Spectral_Class  240 non-null    object \n",
      " 6   Type            240 non-null    int64  \n",
      "dtypes: float64(3), int64(2), object(2)\n",
      "memory usage: 13.3+ KB\n"
     ]
    }
   ],
   "source": [
    "df = pd.read_csv(\"Stars.csv\")\n",
    "df.head()\n",
    "df.info()"
   ]
  },
  {
   "cell_type": "code",
   "execution_count": null,
   "id": "614e23ad",
   "metadata": {},
   "outputs": [
    {
     "name": "stdout",
     "output_type": "stream",
     "text": [
      "   Temperature         L       R    A_M  Color  Spectral_Class  Type\n",
      "0         3068  0.002400  0.1700  16.12      8               5     0\n",
      "1         3042  0.000500  0.1542  16.60      8               5     0\n",
      "2         2600  0.000300  0.1020  18.70      8               5     0\n",
      "3         2800  0.000200  0.1600  16.65      8               5     0\n",
      "4         1939  0.000138  0.1030  20.06      8               5     0\n"
     ]
    }
   ],
   "source": [
    "encoder = LabelEncoder()\n",
    "df['Color'] = encoder.fit_transform(df['Color'])\n",
    "df['Spectral_Class'] = encoder.fit_transform(df['Spectral_Class'])\n",
    "print(df.head())"
   ]
  },
  {
   "cell_type": "code",
   "execution_count": 60,
   "id": "39daa8c8",
   "metadata": {},
   "outputs": [
    {
     "name": "stdout",
     "output_type": "stream",
     "text": [
      "   Temperature         L       R    A_M  Color  Spectral_Class\n",
      "0         3068  0.002400  0.1700  16.12      8               5\n",
      "1         3042  0.000500  0.1542  16.60      8               5\n",
      "2         2600  0.000300  0.1020  18.70      8               5\n",
      "3         2800  0.000200  0.1600  16.65      8               5\n",
      "4         1939  0.000138  0.1030  20.06      8               5\n"
     ]
    }
   ],
   "source": [
    "X = df.drop('Type', axis=1)\n",
    "y = df['Type'] \n",
    "print(X.head())"
   ]
  },
  {
   "cell_type": "code",
   "execution_count": 73,
   "id": "0d9542de",
   "metadata": {},
   "outputs": [],
   "source": [
    "scaler = StandardScaler()\n",
    "X_scaled = scaler.fit_transform(X)\n",
    "\n",
    "\n",
    "X_train, X_test, y_train, y_test = train_test_split(X_scaled, y, test_size=0.2, random_state=42)\n"
   ]
  },
  {
   "cell_type": "code",
   "execution_count": 62,
   "id": "8b65c591",
   "metadata": {},
   "outputs": [
    {
     "name": "stdout",
     "output_type": "stream",
     "text": [
      "Model Trained Succesfully\n"
     ]
    }
   ],
   "source": [
    "knn = KNeighborsClassifier(n_neighbors=3)\n",
    "\n",
    "knn.fit(X_train, y_train)\n",
    "\n",
    "print(\"Model Trained Succesfully\")\n"
   ]
  },
  {
   "cell_type": "markdown",
   "id": "91b6d644",
   "metadata": {},
   "source": []
  },
  {
   "cell_type": "code",
   "execution_count": 63,
   "id": "0053d51f",
   "metadata": {},
   "outputs": [
    {
     "name": "stdout",
     "output_type": "stream",
     "text": [
      "Model Accuracy: 93.75%\n",
      "\n",
      "--- Classification Report ---\n",
      "              precision    recall  f1-score   support\n",
      "\n",
      "           0       1.00      1.00      1.00         8\n",
      "           1       0.88      1.00      0.93         7\n",
      "           2       1.00      1.00      1.00         6\n",
      "           3       0.88      0.88      0.88         8\n",
      "           4       0.88      0.88      0.88         8\n",
      "           5       1.00      0.91      0.95        11\n",
      "\n",
      "    accuracy                           0.94        48\n",
      "   macro avg       0.94      0.94      0.94        48\n",
      "weighted avg       0.94      0.94      0.94        48\n",
      "\n"
     ]
    }
   ],
   "source": [
    "\n",
    "y_pred = knn.predict(X_test)\n",
    "\n",
    "accuracy = accuracy_score(y_test, y_pred)\n",
    "print(f\"Model Accuracy: {accuracy * 100:.2f}%\")\n",
    "\n",
    "print(\"\\n--- Classification Report ---\")\n",
    "print(classification_report(y_test, y_pred))"
   ]
  },
  {
   "cell_type": "code",
   "execution_count": 68,
   "id": "0a157876",
   "metadata": {},
   "outputs": [
    {
     "name": "stdout",
     "output_type": "stream",
     "text": [
      "The model predicts Betelgeuse is Star Type: 5\n"
     ]
    }
   ],
   "source": [
    "betelgeuse_features = np.array([[3500, 126000, 887, -6.0, 4, 5]])\n",
    "predicted_type = knn.predict(betelgeuse_features)\n",
    "print(f\"The model predicts Betelgeuse is Star Type: {predicted_type[0]}\")\n"
   ]
  },
  {
   "cell_type": "code",
   "execution_count": 71,
   "id": "bba78d93",
   "metadata": {},
   "outputs": [
    {
     "name": "stdout",
     "output_type": "stream",
     "text": [
      "3\n"
     ]
    },
    {
     "name": "stderr",
     "output_type": "stream",
     "text": [
      "/opt/anaconda3/lib/python3.13/site-packages/sklearn/utils/validation.py:2739: UserWarning: X does not have valid feature names, but StandardScaler was fitted with feature names\n",
      "  warnings.warn(\n"
     ]
    }
   ],
   "source": [
    "sirius_features = np.array([[9940, 25.4, 1.7, 1.42, 2, 0]])\n",
    "sirius_scaled = scaler.transform(sirius_features)\n",
    "\n",
    "predicted_type = knn.predict(sirius_scaled)\n",
    "print(predicted_type[0])"
   ]
  },
  {
   "cell_type": "code",
   "execution_count": 72,
   "id": "d731cf5c",
   "metadata": {},
   "outputs": [
    {
     "name": "stdout",
     "output_type": "stream",
     "text": [
      "The model's raw output is: 3\n",
      "The model predicts Betelgeuse is a: Main Sequence\n"
     ]
    }
   ],
   "source": [
    "star_type_mapping = {\n",
    "    0: 'Brown Dwarf',\n",
    "    1: 'Red Dwarf',\n",
    "    2: 'White Dwarf',\n",
    "    3: 'Main Sequence',\n",
    "    4: 'Supergiant',\n",
    "    5: 'Hypergiant'\n",
    "}\n",
    "\n",
    "predicted_number = predicted_type[0]\n",
    "predicted_name = star_type_mapping[predicted_number]\n",
    "\n",
    "print(f\"The model's raw output is: {predicted_number}\")\n",
    "print(f\"The model predicts Betelgeuse is a: {predicted_name}\")"
   ]
  },
  {
   "cell_type": "code",
   "execution_count": null,
   "id": "f6c7a981",
   "metadata": {},
   "outputs": [],
   "source": []
  }
 ],
 "metadata": {
  "kernelspec": {
   "display_name": "base",
   "language": "python",
   "name": "python3"
  },
  "language_info": {
   "codemirror_mode": {
    "name": "ipython",
    "version": 3
   },
   "file_extension": ".py",
   "mimetype": "text/x-python",
   "name": "python",
   "nbconvert_exporter": "python",
   "pygments_lexer": "ipython3",
   "version": "3.13.5"
  }
 },
 "nbformat": 4,
 "nbformat_minor": 5
}
