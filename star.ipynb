{
 "cells": [
  {
   "cell_type": "code",
   "execution_count": null,
   "id": "7874f814",
   "metadata": {},
   "outputs": [],
   "source": [
    "import pandas as pd\n",
    "import numpy as np\n",
    "from sklearn.model_selection import train_test_split\n",
    "from sklearn.preprocessing import LabelEncoder, StandardScaler\n",
    "from sklearn.neighbors import KNeighborsClassifier\n",
    "from sklearn.metrics import accuracy_score\n"
    
   ]
  },
  {
   "cell_type": "code",
   "execution_count": null,
   "id": "29f8ef01",
   "metadata": {},
   "outputs": [],
   "source": [
    "df = pd.read_csv(\"Stars.csv\")\n",
    "df.head()\n",
    "df.info()"
   ]
  },
  {
   "cell_type": "code",
   "execution_count": null,
   "id": "614e23ad",
   "metadata": {},
   "outputs": [],
   "source": [
    "encoder = LabelEncoder()\n",
    "df['Color'] = encoder.fit_transform(df['Color'])\n",
    "df['Spectral_Class'] = encoder.fit_transform(df['Spectral_Class'])\n",
    "print(df.head())"
   ]
  },
  {
   "cell_type": "code",
   "execution_count": null,
   "id": "39daa8c8",
   "metadata": {},
   "outputs": [],
   "source": [
    "X = df.drop('Type', axis=1)\n",
    "y = df['Type'] \n",
    "print(X.head())"
   ]
  },
  {
   "cell_type": "code",
   "execution_count": null,
   "id": "0d9542de",
   "metadata": {},
   "outputs": [],
   "source": [
    "scaler = StandardScaler()\n",
    "X_scaled = scaler.fit_transform(X)\n",
    "\n",
    "\n",
    "X_train, X_test, y_train, y_test = train_test_split(X_scaled, y, test_size=0.2, random_state=42)\n"
   ]
  },
  {
   "cell_type": "code",
   "execution_count": null,
   "id": "8b65c591",
   "metadata": {},
   "outputs": [],
   "source": [
    "knn = KNeighborsClassifier(n_neighbors=3)\n",
    "\n",
    "knn.fit(X_train, y_train)\n",
    "\n",
    "print(\"Model Trained Succesfully\")\n"
   ]
  },
  {
   "cell_type": "markdown",
   "id": "91b6d644",
   "metadata": {},
   "source": []
  },
  {
   "cell_type": "code",
   "execution_count": null,
   "id": "0053d51f",
   "metadata": {},
   "outputs": [],
   "source": [
    "\n",
    "y_pred = knn.predict(X_test)\n",
    "\n",
    "accuracy = accuracy_score(y_test, y_pred)\n",
    "print(f\"Model Accuracy: {accuracy * 100:.2f}%\")\n",
    "\n",
    "# print(\"\\nReport\")\n",
    "# print(classification_report(y_test, y_pred))"
   ]
  },
  {
   "cell_type": "code",
   "execution_count": null,
   "id": "0a157876",
   "metadata": {},
   "outputs": [],
   "source": [
    "betelgeuse_features = np.array([[3500, 126000, 887, -6.0, 4, 5]])\n",
    "predicted_type = knn.predict(betelgeuse_features)\n",
    "print(f\"The model predicts Betelgeuse is Star Type: {predicted_type[0]}\")\n"
   ]
  },
  {
   "cell_type": "code",
   "execution_count": null,
   "id": "bba78d93",
   "metadata": {},
   "outputs": [],
   "source": [
    "sirius_features = np.array([[9940, 25.4, 1.7, 1.42, 2, 0]])\n",
    "sirius_scaled = scaler.transform(sirius_features)\n",
    "\n",
    "predicted_type = knn.predict(sirius_scaled)\n",
    "print(predicted_type[0])"
   ]
  },
  {
   "cell_type": "code",
   "execution_count": null,
   "id": "d731cf5c",
   "metadata": {},
   "outputs": [],
   "source": [
    "star_type_mapping = {\n",
    "    0: 'Brown Dwarf',\n",
    "    1: 'Red Dwarf',\n",
    "    2: 'White Dwarf',\n",
    "    3: 'Main Sequence',\n",
    "    4: 'Supergiant',\n",
    "    5: 'Hypergiant'\n",
    "}\n",
    "\n",
    "predicted_number = predicted_type[0]\n",
    "predicted_name = star_type_mapping[predicted_number]\n",
    "\n",
    "print(f\"The model's raw output is: {predicted_number}\")\n",
    "print(f\"The model predicts Betelgeuse is a: {predicted_name}\")"
   ]
  },
  {
   "cell_type": "code",
   "execution_count": null,
   "id": "f6c7a981",
   "metadata": {},
   "outputs": [],
   "source": []
  }
 ],
 "metadata": {
  "kernelspec": {
   "display_name": "base",
   "language": "python",
   "name": "python3"
  },
  "language_info": {
   "codemirror_mode": {
    "name": "ipython",
    "version": 3
   },
   "file_extension": ".py",
   "mimetype": "text/x-python",
   "name": "python",
   "nbconvert_exporter": "python",
   "pygments_lexer": "ipython3",
   "version": "3.13.5"
  }
 }
